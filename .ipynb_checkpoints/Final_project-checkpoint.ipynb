{
 "cells": [
  {
   "cell_type": "markdown",
   "metadata": {},
   "source": []
  },
  {
   "cell_type": "markdown",
   "metadata": {},
   "source": [
    "# Introduction/Business Problem "
   ]
  },
  {
   "cell_type": "markdown",
   "metadata": {},
   "source": [
    "Vertical Farms are places where you can grow vegetables and fruits indoors. These do not need sun’s light. Their light source is artificial. In order to have a real life application for the API I will use the data available to find the best spot for them in my city . That is Lima City in Peru. Lima has one of the worst traffic congestion in the world. It is key that the farms are near restaurants so they can have the goods as fast as possible. Also, it is important to identify customers that like healthy foods in order to be near them. \n"
   ]
  },
  {
   "cell_type": "markdown",
   "metadata": {},
   "source": [
    "# Data"
   ]
  },
  {
   "cell_type": "markdown",
   "metadata": {},
   "source": [
    "I will use the available Latitudes and longitudes of each district i the city of Lima. Foursquare will provide the available venues with restaurants on each district. Also, customer review data. It's also necessary to prioritize those restaurants that have a good score. For instance, Miraflores is one turistic distric. Their geolocation will help me identify venues nearby and which ones have healthy menus, better scores and reviews. So I can decide if it is indeed a good district for a vertical farm. "
   ]
  }
 ],
 "metadata": {
  "kernelspec": {
   "display_name": "Python",
   "language": "python",
   "name": "conda-env-python-py"
  },
  "language_info": {
   "codemirror_mode": {
    "name": "ipython",
    "version": 3
   },
   "file_extension": ".py",
   "mimetype": "text/x-python",
   "name": "python",
   "nbconvert_exporter": "python",
   "pygments_lexer": "ipython3",
   "version": "3.6.12"
  }
 },
 "nbformat": 4,
 "nbformat_minor": 4
}
