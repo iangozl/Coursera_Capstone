{
 "cells": [
  {
   "cell_type": "markdown",
   "metadata": {},
   "source": []
  },
  {
   "cell_type": "markdown",
   "metadata": {},
   "source": [
    "# Introduction/Business Problem "
   ]
  },
  {
   "cell_type": "markdown",
   "metadata": {},
   "source": [
    "Lima has one of the worst traffic congestions in the world. Also, delivery systems are slow and can be an extra cost for restaurants and supermarkets.Even though the country of Peru has a decent agriculture industry, most of their vegetables come from other regions outside Lima. There wouldn't be much problem if Peru had good infrastructure. That is not the case. Problems like protests, bumpy tracks and droughts can delay food orders.\n",
    "\n",
    "Vertical Farms are places where you can grow vegetables and fruits indoors. These do not need sun light. Their light source is artificial. In order to have a real life application for the API I will use the data available to find the best spot for them in my city. That is Lima City in Peru.\n",
    "\n",
    "It is key that the farms are near restaurants so they can have the goods as fast as possible. Also, it is important to identify customers that like healthy foods in order to be near them. "
   ]
  },
  {
   "cell_type": "markdown",
   "metadata": {},
   "source": [
    "# Data"
   ]
  },
  {
   "cell_type": "markdown",
   "metadata": {},
   "source": [
    "Latitudes and longitudes of each district in Lima city will be cleaned and used afterwords. \n",
    "Here is the data source: https://www.antipodas.net/coordenadaspais/peru/los-olivos.php\n",
    "\n",
    "Foursquare will provide the available venues with restaurants on each district. Also, customer review data. This kind of information is necessary to prioritize those restaurants that have a good score.\n",
    "\n",
    "For instance, Miraflores is one turistic distric. Their geolocation will help me identify venues nearby and which ones have healthy menus, better scores and reviews. So I can decide if it is indeed a good district for a vertical farm. "
   ]
  }
 ],
 "metadata": {
  "kernelspec": {
   "display_name": "Python",
   "language": "python",
   "name": "conda-env-python-py"
  },
  "language_info": {
   "codemirror_mode": {
    "name": "ipython",
    "version": 3
   },
   "file_extension": ".py",
   "mimetype": "text/x-python",
   "name": "python",
   "nbconvert_exporter": "python",
   "pygments_lexer": "ipython3",
   "version": "3.6.12"
  }
 },
 "nbformat": 4,
 "nbformat_minor": 4
}
